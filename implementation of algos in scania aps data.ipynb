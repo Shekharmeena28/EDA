{
 "cells": [
  {
   "cell_type": "markdown",
   "id": "46bb730c",
   "metadata": {},
   "source": [
    "# Scania trucks air pressure system failure dataset implementation of Algos"
   ]
  },
  {
   "cell_type": "markdown",
   "id": "8339bd92",
   "metadata": {},
   "source": [
    "***1. Introduction***\n",
    "* Air Pressure System (APS) in trucks generates pressurized air that is used for various functions of trucks such as braking and gear changes. Lot of money is spent on un-necessary checks done by service person on APS system in trucks, which can be prevented by developing a machine learning model that can predict the failure of component in APS. In this way, service can be restricted to the trucks whose APS component is predicted to be failed by the model.\n",
    "\n",
    "* The given dataset positive class consists of component failures for a specific component of the APS system. The negative class consists of trucks with failures for components not related to the APS. Attributes of dataset are anonymized for proprietary reasons. This is a binary classification problem."
   ]
  },
  {
   "cell_type": "code",
   "execution_count": 2,
   "id": "cfd506c7",
   "metadata": {},
   "outputs": [],
   "source": [
    "import warnings\n",
    "warnings.filterwarnings(\"ignore\")\n",
    "import pandas as pd\n",
    "import csv\n",
    "\n",
    "import matplotlib.pyplot as plt\n",
    "%matplotlib inline\n",
    "import seaborn as sns\n",
    "from sklearn.preprocessing import LabelEncoder\n",
    "\n",
    "import numpy as np\n",
    "import re\n",
    "import os\n",
    "import datetime as dt\n",
    "import pickle\n",
    "from datetime import datetime\n",
    "from scipy import stats\n",
    "import random\n",
    "from sklearn.model_selection import KFold\n",
    "from IPython.display import display, Markdown\n",
    "import pickle\n",
    "from pandas import Series\n",
    "from collections import defaultdict\n",
    "import math\n",
    "from scipy.stats import randint, uniform\n",
    "import missingno as msno\n",
    "import optuna\n",
    "from sklearn.model_selection import cross_val_score\n",
    "\n",
    "\n",
    "from sklearn.impute import SimpleImputer\n",
    "from sklearn.impute import MissingIndicator\n",
    "from sklearn.impute import KNNImputer\n",
    "from tqdm import tqdm\n",
    "\n",
    "from sklearn.manifold import TSNE\n",
    "from sklearn.decomposition import PCA\n",
    "from sklearn.preprocessing import StandardScaler\n",
    "\n",
    "from sklearn import metrics\n",
    "from sklearn.metrics import f1_score, auc, accuracy_score, recall_score, precision_score,\\\n",
    "confusion_matrix, classification_report, roc_auc_score, roc_curve\n",
    "from sklearn.model_selection import GridSearchCV\n",
    "from sklearn.model_selection import RandomizedSearchCV\n",
    "from sklearn.tree import DecisionTreeClassifier\n",
    "from sklearn.svm import SVC\n",
    "\n",
    "from sklearn.ensemble import RandomForestClassifier\n",
    "import xgboost as xgb\n",
    "from xgboost import XGBClassifier\n",
    "from sklearn.ensemble import AdaBoostClassifier\n",
    "from sklearn.ensemble import GradientBoostingClassifier\n",
    "from sklearn.linear_model import LogisticRegression"
   ]
  },
  {
   "cell_type": "code",
   "execution_count": 3,
   "id": "2507a2e4",
   "metadata": {},
   "outputs": [],
   "source": [
    "train=pd.read_csv(\"C:\\\\Users\\\\shekh\\\\Downloads\\\\aps_failure_training_set (1).csv\", skiprows=20)\n",
    "test=pd.read_csv(\"C:\\\\Users\\\\shekh\\\\Downloads\\\\aps_failure_test_set.csv\", skiprows=20)"
   ]
  },
  {
   "cell_type": "code",
   "execution_count": 4,
   "id": "49ebd18e",
   "metadata": {},
   "outputs": [
    {
     "data": {
      "text/html": [
       "<div>\n",
       "<style scoped>\n",
       "    .dataframe tbody tr th:only-of-type {\n",
       "        vertical-align: middle;\n",
       "    }\n",
       "\n",
       "    .dataframe tbody tr th {\n",
       "        vertical-align: top;\n",
       "    }\n",
       "\n",
       "    .dataframe thead th {\n",
       "        text-align: right;\n",
       "    }\n",
       "</style>\n",
       "<table border=\"1\" class=\"dataframe\">\n",
       "  <thead>\n",
       "    <tr style=\"text-align: right;\">\n",
       "      <th></th>\n",
       "      <th>class</th>\n",
       "      <th>aa_000</th>\n",
       "      <th>ab_000</th>\n",
       "      <th>ac_000</th>\n",
       "      <th>ad_000</th>\n",
       "      <th>ae_000</th>\n",
       "      <th>af_000</th>\n",
       "      <th>ag_000</th>\n",
       "      <th>ag_001</th>\n",
       "      <th>ag_002</th>\n",
       "      <th>...</th>\n",
       "      <th>ee_002</th>\n",
       "      <th>ee_003</th>\n",
       "      <th>ee_004</th>\n",
       "      <th>ee_005</th>\n",
       "      <th>ee_006</th>\n",
       "      <th>ee_007</th>\n",
       "      <th>ee_008</th>\n",
       "      <th>ee_009</th>\n",
       "      <th>ef_000</th>\n",
       "      <th>eg_000</th>\n",
       "    </tr>\n",
       "  </thead>\n",
       "  <tbody>\n",
       "    <tr>\n",
       "      <th>0</th>\n",
       "      <td>neg</td>\n",
       "      <td>76698</td>\n",
       "      <td>na</td>\n",
       "      <td>2130706438</td>\n",
       "      <td>280</td>\n",
       "      <td>0</td>\n",
       "      <td>0</td>\n",
       "      <td>0</td>\n",
       "      <td>0</td>\n",
       "      <td>0</td>\n",
       "      <td>...</td>\n",
       "      <td>1240520</td>\n",
       "      <td>493384</td>\n",
       "      <td>721044</td>\n",
       "      <td>469792</td>\n",
       "      <td>339156</td>\n",
       "      <td>157956</td>\n",
       "      <td>73224</td>\n",
       "      <td>0</td>\n",
       "      <td>0</td>\n",
       "      <td>0</td>\n",
       "    </tr>\n",
       "    <tr>\n",
       "      <th>1</th>\n",
       "      <td>neg</td>\n",
       "      <td>33058</td>\n",
       "      <td>na</td>\n",
       "      <td>0</td>\n",
       "      <td>na</td>\n",
       "      <td>0</td>\n",
       "      <td>0</td>\n",
       "      <td>0</td>\n",
       "      <td>0</td>\n",
       "      <td>0</td>\n",
       "      <td>...</td>\n",
       "      <td>421400</td>\n",
       "      <td>178064</td>\n",
       "      <td>293306</td>\n",
       "      <td>245416</td>\n",
       "      <td>133654</td>\n",
       "      <td>81140</td>\n",
       "      <td>97576</td>\n",
       "      <td>1500</td>\n",
       "      <td>0</td>\n",
       "      <td>0</td>\n",
       "    </tr>\n",
       "    <tr>\n",
       "      <th>2</th>\n",
       "      <td>neg</td>\n",
       "      <td>41040</td>\n",
       "      <td>na</td>\n",
       "      <td>228</td>\n",
       "      <td>100</td>\n",
       "      <td>0</td>\n",
       "      <td>0</td>\n",
       "      <td>0</td>\n",
       "      <td>0</td>\n",
       "      <td>0</td>\n",
       "      <td>...</td>\n",
       "      <td>277378</td>\n",
       "      <td>159812</td>\n",
       "      <td>423992</td>\n",
       "      <td>409564</td>\n",
       "      <td>320746</td>\n",
       "      <td>158022</td>\n",
       "      <td>95128</td>\n",
       "      <td>514</td>\n",
       "      <td>0</td>\n",
       "      <td>0</td>\n",
       "    </tr>\n",
       "    <tr>\n",
       "      <th>3</th>\n",
       "      <td>neg</td>\n",
       "      <td>12</td>\n",
       "      <td>0</td>\n",
       "      <td>70</td>\n",
       "      <td>66</td>\n",
       "      <td>0</td>\n",
       "      <td>10</td>\n",
       "      <td>0</td>\n",
       "      <td>0</td>\n",
       "      <td>0</td>\n",
       "      <td>...</td>\n",
       "      <td>240</td>\n",
       "      <td>46</td>\n",
       "      <td>58</td>\n",
       "      <td>44</td>\n",
       "      <td>10</td>\n",
       "      <td>0</td>\n",
       "      <td>0</td>\n",
       "      <td>0</td>\n",
       "      <td>4</td>\n",
       "      <td>32</td>\n",
       "    </tr>\n",
       "    <tr>\n",
       "      <th>4</th>\n",
       "      <td>neg</td>\n",
       "      <td>60874</td>\n",
       "      <td>na</td>\n",
       "      <td>1368</td>\n",
       "      <td>458</td>\n",
       "      <td>0</td>\n",
       "      <td>0</td>\n",
       "      <td>0</td>\n",
       "      <td>0</td>\n",
       "      <td>0</td>\n",
       "      <td>...</td>\n",
       "      <td>622012</td>\n",
       "      <td>229790</td>\n",
       "      <td>405298</td>\n",
       "      <td>347188</td>\n",
       "      <td>286954</td>\n",
       "      <td>311560</td>\n",
       "      <td>433954</td>\n",
       "      <td>1218</td>\n",
       "      <td>0</td>\n",
       "      <td>0</td>\n",
       "    </tr>\n",
       "  </tbody>\n",
       "</table>\n",
       "<p>5 rows × 171 columns</p>\n",
       "</div>"
      ],
      "text/plain": [
       "  class  aa_000 ab_000      ac_000 ad_000 ae_000 af_000 ag_000 ag_001 ag_002  \\\n",
       "0   neg   76698     na  2130706438    280      0      0      0      0      0   \n",
       "1   neg   33058     na           0     na      0      0      0      0      0   \n",
       "2   neg   41040     na         228    100      0      0      0      0      0   \n",
       "3   neg      12      0          70     66      0     10      0      0      0   \n",
       "4   neg   60874     na        1368    458      0      0      0      0      0   \n",
       "\n",
       "   ...   ee_002  ee_003  ee_004  ee_005  ee_006  ee_007  ee_008 ee_009 ef_000  \\\n",
       "0  ...  1240520  493384  721044  469792  339156  157956   73224      0      0   \n",
       "1  ...   421400  178064  293306  245416  133654   81140   97576   1500      0   \n",
       "2  ...   277378  159812  423992  409564  320746  158022   95128    514      0   \n",
       "3  ...      240      46      58      44      10       0       0      0      4   \n",
       "4  ...   622012  229790  405298  347188  286954  311560  433954   1218      0   \n",
       "\n",
       "  eg_000  \n",
       "0      0  \n",
       "1      0  \n",
       "2      0  \n",
       "3     32  \n",
       "4      0  \n",
       "\n",
       "[5 rows x 171 columns]"
      ]
     },
     "execution_count": 4,
     "metadata": {},
     "output_type": "execute_result"
    }
   ],
   "source": [
    "train.head()"
   ]
  },
  {
   "cell_type": "code",
   "execution_count": 5,
   "id": "3caec060",
   "metadata": {},
   "outputs": [
    {
     "data": {
      "text/html": [
       "<div>\n",
       "<style scoped>\n",
       "    .dataframe tbody tr th:only-of-type {\n",
       "        vertical-align: middle;\n",
       "    }\n",
       "\n",
       "    .dataframe tbody tr th {\n",
       "        vertical-align: top;\n",
       "    }\n",
       "\n",
       "    .dataframe thead th {\n",
       "        text-align: right;\n",
       "    }\n",
       "</style>\n",
       "<table border=\"1\" class=\"dataframe\">\n",
       "  <thead>\n",
       "    <tr style=\"text-align: right;\">\n",
       "      <th></th>\n",
       "      <th>class</th>\n",
       "      <th>aa_000</th>\n",
       "      <th>ab_000</th>\n",
       "      <th>ac_000</th>\n",
       "      <th>ad_000</th>\n",
       "      <th>ae_000</th>\n",
       "      <th>af_000</th>\n",
       "      <th>ag_000</th>\n",
       "      <th>ag_001</th>\n",
       "      <th>ag_002</th>\n",
       "      <th>...</th>\n",
       "      <th>ee_002</th>\n",
       "      <th>ee_003</th>\n",
       "      <th>ee_004</th>\n",
       "      <th>ee_005</th>\n",
       "      <th>ee_006</th>\n",
       "      <th>ee_007</th>\n",
       "      <th>ee_008</th>\n",
       "      <th>ee_009</th>\n",
       "      <th>ef_000</th>\n",
       "      <th>eg_000</th>\n",
       "    </tr>\n",
       "  </thead>\n",
       "  <tbody>\n",
       "    <tr>\n",
       "      <th>0</th>\n",
       "      <td>neg</td>\n",
       "      <td>60</td>\n",
       "      <td>0</td>\n",
       "      <td>20</td>\n",
       "      <td>12</td>\n",
       "      <td>0</td>\n",
       "      <td>0</td>\n",
       "      <td>0</td>\n",
       "      <td>0</td>\n",
       "      <td>0</td>\n",
       "      <td>...</td>\n",
       "      <td>1098</td>\n",
       "      <td>138</td>\n",
       "      <td>412</td>\n",
       "      <td>654</td>\n",
       "      <td>78</td>\n",
       "      <td>88</td>\n",
       "      <td>0</td>\n",
       "      <td>0</td>\n",
       "      <td>0</td>\n",
       "      <td>0</td>\n",
       "    </tr>\n",
       "    <tr>\n",
       "      <th>1</th>\n",
       "      <td>neg</td>\n",
       "      <td>82</td>\n",
       "      <td>0</td>\n",
       "      <td>68</td>\n",
       "      <td>40</td>\n",
       "      <td>0</td>\n",
       "      <td>0</td>\n",
       "      <td>0</td>\n",
       "      <td>0</td>\n",
       "      <td>0</td>\n",
       "      <td>...</td>\n",
       "      <td>1068</td>\n",
       "      <td>276</td>\n",
       "      <td>1620</td>\n",
       "      <td>116</td>\n",
       "      <td>86</td>\n",
       "      <td>462</td>\n",
       "      <td>0</td>\n",
       "      <td>0</td>\n",
       "      <td>0</td>\n",
       "      <td>0</td>\n",
       "    </tr>\n",
       "    <tr>\n",
       "      <th>2</th>\n",
       "      <td>neg</td>\n",
       "      <td>66002</td>\n",
       "      <td>2</td>\n",
       "      <td>212</td>\n",
       "      <td>112</td>\n",
       "      <td>0</td>\n",
       "      <td>0</td>\n",
       "      <td>0</td>\n",
       "      <td>0</td>\n",
       "      <td>0</td>\n",
       "      <td>...</td>\n",
       "      <td>495076</td>\n",
       "      <td>380368</td>\n",
       "      <td>440134</td>\n",
       "      <td>269556</td>\n",
       "      <td>1315022</td>\n",
       "      <td>153680</td>\n",
       "      <td>516</td>\n",
       "      <td>0</td>\n",
       "      <td>0</td>\n",
       "      <td>0</td>\n",
       "    </tr>\n",
       "    <tr>\n",
       "      <th>3</th>\n",
       "      <td>neg</td>\n",
       "      <td>59816</td>\n",
       "      <td>na</td>\n",
       "      <td>1010</td>\n",
       "      <td>936</td>\n",
       "      <td>0</td>\n",
       "      <td>0</td>\n",
       "      <td>0</td>\n",
       "      <td>0</td>\n",
       "      <td>0</td>\n",
       "      <td>...</td>\n",
       "      <td>540820</td>\n",
       "      <td>243270</td>\n",
       "      <td>483302</td>\n",
       "      <td>485332</td>\n",
       "      <td>431376</td>\n",
       "      <td>210074</td>\n",
       "      <td>281662</td>\n",
       "      <td>3232</td>\n",
       "      <td>0</td>\n",
       "      <td>0</td>\n",
       "    </tr>\n",
       "    <tr>\n",
       "      <th>4</th>\n",
       "      <td>neg</td>\n",
       "      <td>1814</td>\n",
       "      <td>na</td>\n",
       "      <td>156</td>\n",
       "      <td>140</td>\n",
       "      <td>0</td>\n",
       "      <td>0</td>\n",
       "      <td>0</td>\n",
       "      <td>0</td>\n",
       "      <td>0</td>\n",
       "      <td>...</td>\n",
       "      <td>7646</td>\n",
       "      <td>4144</td>\n",
       "      <td>18466</td>\n",
       "      <td>49782</td>\n",
       "      <td>3176</td>\n",
       "      <td>482</td>\n",
       "      <td>76</td>\n",
       "      <td>0</td>\n",
       "      <td>0</td>\n",
       "      <td>0</td>\n",
       "    </tr>\n",
       "  </tbody>\n",
       "</table>\n",
       "<p>5 rows × 171 columns</p>\n",
       "</div>"
      ],
      "text/plain": [
       "  class  aa_000 ab_000 ac_000 ad_000 ae_000 af_000 ag_000 ag_001 ag_002  ...  \\\n",
       "0   neg      60      0     20     12      0      0      0      0      0  ...   \n",
       "1   neg      82      0     68     40      0      0      0      0      0  ...   \n",
       "2   neg   66002      2    212    112      0      0      0      0      0  ...   \n",
       "3   neg   59816     na   1010    936      0      0      0      0      0  ...   \n",
       "4   neg    1814     na    156    140      0      0      0      0      0  ...   \n",
       "\n",
       "   ee_002  ee_003  ee_004  ee_005   ee_006  ee_007  ee_008 ee_009 ef_000  \\\n",
       "0    1098     138     412     654       78      88       0      0      0   \n",
       "1    1068     276    1620     116       86     462       0      0      0   \n",
       "2  495076  380368  440134  269556  1315022  153680     516      0      0   \n",
       "3  540820  243270  483302  485332   431376  210074  281662   3232      0   \n",
       "4    7646    4144   18466   49782     3176     482      76      0      0   \n",
       "\n",
       "  eg_000  \n",
       "0      0  \n",
       "1      0  \n",
       "2      0  \n",
       "3      0  \n",
       "4      0  \n",
       "\n",
       "[5 rows x 171 columns]"
      ]
     },
     "execution_count": 5,
     "metadata": {},
     "output_type": "execute_result"
    }
   ],
   "source": [
    "test.head()"
   ]
  },
  {
   "cell_type": "code",
   "execution_count": 6,
   "id": "e497d048",
   "metadata": {},
   "outputs": [
    {
     "data": {
      "text/html": [
       "<div>\n",
       "<style scoped>\n",
       "    .dataframe tbody tr th:only-of-type {\n",
       "        vertical-align: middle;\n",
       "    }\n",
       "\n",
       "    .dataframe tbody tr th {\n",
       "        vertical-align: top;\n",
       "    }\n",
       "\n",
       "    .dataframe thead th {\n",
       "        text-align: right;\n",
       "    }\n",
       "</style>\n",
       "<table border=\"1\" class=\"dataframe\">\n",
       "  <thead>\n",
       "    <tr style=\"text-align: right;\">\n",
       "      <th></th>\n",
       "      <th>class</th>\n",
       "      <th>aa_000</th>\n",
       "      <th>ab_000</th>\n",
       "      <th>ac_000</th>\n",
       "      <th>ad_000</th>\n",
       "      <th>ae_000</th>\n",
       "      <th>af_000</th>\n",
       "      <th>ag_000</th>\n",
       "      <th>ag_001</th>\n",
       "      <th>ag_002</th>\n",
       "      <th>...</th>\n",
       "      <th>ee_002</th>\n",
       "      <th>ee_003</th>\n",
       "      <th>ee_004</th>\n",
       "      <th>ee_005</th>\n",
       "      <th>ee_006</th>\n",
       "      <th>ee_007</th>\n",
       "      <th>ee_008</th>\n",
       "      <th>ee_009</th>\n",
       "      <th>ef_000</th>\n",
       "      <th>eg_000</th>\n",
       "    </tr>\n",
       "  </thead>\n",
       "  <tbody>\n",
       "  </tbody>\n",
       "</table>\n",
       "<p>0 rows × 171 columns</p>\n",
       "</div>"
      ],
      "text/plain": [
       "Empty DataFrame\n",
       "Columns: [class, aa_000, ab_000, ac_000, ad_000, ae_000, af_000, ag_000, ag_001, ag_002, ag_003, ag_004, ag_005, ag_006, ag_007, ag_008, ag_009, ah_000, ai_000, aj_000, ak_000, al_000, am_0, an_000, ao_000, ap_000, aq_000, ar_000, as_000, at_000, au_000, av_000, ax_000, ay_000, ay_001, ay_002, ay_003, ay_004, ay_005, ay_006, ay_007, ay_008, ay_009, az_000, az_001, az_002, az_003, az_004, az_005, az_006, az_007, az_008, az_009, ba_000, ba_001, ba_002, ba_003, ba_004, ba_005, ba_006, ba_007, ba_008, ba_009, bb_000, bc_000, bd_000, be_000, bf_000, bg_000, bh_000, bi_000, bj_000, bk_000, bl_000, bm_000, bn_000, bo_000, bp_000, bq_000, br_000, bs_000, bt_000, bu_000, bv_000, bx_000, by_000, bz_000, ca_000, cb_000, cc_000, cd_000, ce_000, cf_000, cg_000, ch_000, ci_000, cj_000, ck_000, cl_000, cm_000, ...]\n",
       "Index: []\n",
       "\n",
       "[0 rows x 171 columns]"
      ]
     },
     "execution_count": 6,
     "metadata": {},
     "output_type": "execute_result"
    }
   ],
   "source": [
    "#checking for the duplicates\n",
    "train[train.duplicated()]"
   ]
  },
  {
   "cell_type": "code",
   "execution_count": 7,
   "id": "ed5e1081",
   "metadata": {},
   "outputs": [
    {
     "data": {
      "text/html": [
       "<div>\n",
       "<style scoped>\n",
       "    .dataframe tbody tr th:only-of-type {\n",
       "        vertical-align: middle;\n",
       "    }\n",
       "\n",
       "    .dataframe tbody tr th {\n",
       "        vertical-align: top;\n",
       "    }\n",
       "\n",
       "    .dataframe thead th {\n",
       "        text-align: right;\n",
       "    }\n",
       "</style>\n",
       "<table border=\"1\" class=\"dataframe\">\n",
       "  <thead>\n",
       "    <tr style=\"text-align: right;\">\n",
       "      <th></th>\n",
       "      <th>class</th>\n",
       "      <th>aa_000</th>\n",
       "      <th>ab_000</th>\n",
       "      <th>ac_000</th>\n",
       "      <th>ad_000</th>\n",
       "      <th>ae_000</th>\n",
       "      <th>af_000</th>\n",
       "      <th>ag_000</th>\n",
       "      <th>ag_001</th>\n",
       "      <th>ag_002</th>\n",
       "      <th>...</th>\n",
       "      <th>ee_002</th>\n",
       "      <th>ee_003</th>\n",
       "      <th>ee_004</th>\n",
       "      <th>ee_005</th>\n",
       "      <th>ee_006</th>\n",
       "      <th>ee_007</th>\n",
       "      <th>ee_008</th>\n",
       "      <th>ee_009</th>\n",
       "      <th>ef_000</th>\n",
       "      <th>eg_000</th>\n",
       "    </tr>\n",
       "  </thead>\n",
       "  <tbody>\n",
       "  </tbody>\n",
       "</table>\n",
       "<p>0 rows × 171 columns</p>\n",
       "</div>"
      ],
      "text/plain": [
       "Empty DataFrame\n",
       "Columns: [class, aa_000, ab_000, ac_000, ad_000, ae_000, af_000, ag_000, ag_001, ag_002, ag_003, ag_004, ag_005, ag_006, ag_007, ag_008, ag_009, ah_000, ai_000, aj_000, ak_000, al_000, am_0, an_000, ao_000, ap_000, aq_000, ar_000, as_000, at_000, au_000, av_000, ax_000, ay_000, ay_001, ay_002, ay_003, ay_004, ay_005, ay_006, ay_007, ay_008, ay_009, az_000, az_001, az_002, az_003, az_004, az_005, az_006, az_007, az_008, az_009, ba_000, ba_001, ba_002, ba_003, ba_004, ba_005, ba_006, ba_007, ba_008, ba_009, bb_000, bc_000, bd_000, be_000, bf_000, bg_000, bh_000, bi_000, bj_000, bk_000, bl_000, bm_000, bn_000, bo_000, bp_000, bq_000, br_000, bs_000, bt_000, bu_000, bv_000, bx_000, by_000, bz_000, ca_000, cb_000, cc_000, cd_000, ce_000, cf_000, cg_000, ch_000, ci_000, cj_000, ck_000, cl_000, cm_000, ...]\n",
       "Index: []\n",
       "\n",
       "[0 rows x 171 columns]"
      ]
     },
     "execution_count": 7,
     "metadata": {},
     "output_type": "execute_result"
    }
   ],
   "source": [
    "test[test.duplicated()]"
   ]
  },
  {
   "cell_type": "code",
   "execution_count": 8,
   "id": "6c54f2d1",
   "metadata": {},
   "outputs": [],
   "source": [
    "#replacing na with NaN because na is in category type\n",
    "train.replace(to_replace=['na', ' nan'], value=np.NaN, inplace=True)\n",
    "test.replace(to_replace=['na', ' nan'], value=np.NaN, inplace=True)"
   ]
  },
  {
   "cell_type": "code",
   "execution_count": 9,
   "id": "08c187ae",
   "metadata": {},
   "outputs": [],
   "source": [
    "from sklearn.preprocessing import LabelEncoder\n",
    "le=LabelEncoder()"
   ]
  },
  {
   "cell_type": "code",
   "execution_count": 10,
   "id": "fe0c11ec",
   "metadata": {},
   "outputs": [],
   "source": [
    "#encoding the target column in binary form o and 1 as it has only 2 outputs\n",
    "train['class']=le.fit_transform(train['class'])\n",
    "test['class']=le.fit_transform(test['class'])"
   ]
  },
  {
   "cell_type": "code",
   "execution_count": 11,
   "id": "ff40bf73",
   "metadata": {},
   "outputs": [
    {
     "data": {
      "text/plain": [
       "array([0, 1])"
      ]
     },
     "execution_count": 11,
     "metadata": {},
     "output_type": "execute_result"
    }
   ],
   "source": [
    "train['class'].unique()"
   ]
  },
  {
   "cell_type": "code",
   "execution_count": 12,
   "id": "646fd266",
   "metadata": {},
   "outputs": [
    {
     "data": {
      "text/plain": [
       "array([0, 1])"
      ]
     },
     "execution_count": 12,
     "metadata": {},
     "output_type": "execute_result"
    }
   ],
   "source": [
    "test['class'].unique()"
   ]
  },
  {
   "cell_type": "code",
   "execution_count": 13,
   "id": "794f5448",
   "metadata": {},
   "outputs": [
    {
     "data": {
      "text/plain": [
       "<AxesSubplot: xlabel='class', ylabel='count'>"
      ]
     },
     "execution_count": 13,
     "metadata": {},
     "output_type": "execute_result"
    },
    {
     "data": {
      "image/png": "[encoded data removed]",
      "text/plain": [
       "<Figure size 640x480 with 1 Axes>"
      ]
     },
     "metadata": {},
     "output_type": "display_data"
    }
   ],
   "source": [
    "sns.countplot(train['class'])"
   ]
  },
  {
   "cell_type": "code",
   "execution_count": 14,
   "id": "5acc616a",
   "metadata": {},
   "outputs": [],
   "source": [
    "# removing the null values in train data if the there are more na than 42000, it will remove the columns if it has more than 42000 na values\n",
    "# we did this after observing the Eda and seeing how much percent of data is missing\n",
    "train.dropna(axis = 1, thresh=42000, inplace=True)"
   ]
  },
  {
   "cell_type": "code",
   "execution_count": 15,
   "id": "2d7882e0",
   "metadata": {},
   "outputs": [
    {
     "data": {
      "text/plain": [
       "(60000, 161)"
      ]
     },
     "execution_count": 15,
     "metadata": {},
     "output_type": "execute_result"
    }
   ],
   "source": [
    "train.shape"
   ]
  },
  {
   "cell_type": "code",
   "execution_count": 16,
   "id": "0efb4f45",
   "metadata": {},
   "outputs": [],
   "source": [
    "test.dropna(axis = 1, thresh=11000, inplace=True)"
   ]
  },
  {
   "cell_type": "code",
   "execution_count": 17,
   "id": "a3d7a7f3",
   "metadata": {},
   "outputs": [
    {
     "data": {
      "text/plain": [
       "(16000, 161)"
      ]
     },
     "execution_count": 17,
     "metadata": {},
     "output_type": "execute_result"
    }
   ],
   "source": [
    "test.shape"
   ]
  },
  {
   "cell_type": "code",
   "execution_count": 18,
   "id": "b399f9c4",
   "metadata": {},
   "outputs": [],
   "source": [
    "#for train dataset\n",
    "y_train = train['class']"
   ]
  },
  {
   "cell_type": "code",
   "execution_count": 19,
   "id": "473f84ba",
   "metadata": {},
   "outputs": [],
   "source": [
    "train.drop(['class'],axis = 1,inplace = True)"
   ]
  },
  {
   "cell_type": "code",
   "execution_count": 20,
   "id": "93c7cb14",
   "metadata": {},
   "outputs": [],
   "source": [
    "#for test dataset\n",
    "y_test = test['class']"
   ]
  },
  {
   "cell_type": "code",
   "execution_count": 21,
   "id": "bd12694c",
   "metadata": {},
   "outputs": [],
   "source": [
    "test.drop(['class'],axis = 1,inplace = True)"
   ]
  },
  {
   "cell_type": "markdown",
   "id": "5fd6cfc4",
   "metadata": {},
   "source": [
    "## Handling the missing value by mean imputation"
   ]
  },
  {
   "cell_type": "code",
   "execution_count": 22,
   "id": "873ebd72",
   "metadata": {},
   "outputs": [],
   "source": [
    "impute_mean = SimpleImputer(missing_values= np.nan, strategy='mean',copy = True, verbose= 2)\n",
    "train_mean_imputed = pd.DataFrame(impute_mean.fit_transform(train),columns=train.columns)\n",
    "test_mean_imputed = pd.DataFrame(impute_mean.transform(test),columns=test.columns)"
   ]
  },
  {
   "cell_type": "code",
   "execution_count": 23,
   "id": "838e841e",
   "metadata": {},
   "outputs": [
    {
     "data": {
      "text/html": [
       "<div>\n",
       "<style scoped>\n",
       "    .dataframe tbody tr th:only-of-type {\n",
       "        vertical-align: middle;\n",
       "    }\n",
       "\n",
       "    .dataframe tbody tr th {\n",
       "        vertical-align: top;\n",
       "    }\n",
       "\n",
       "    .dataframe thead th {\n",
       "        text-align: right;\n",
       "    }\n",
       "</style>\n",
       "<table border=\"1\" class=\"dataframe\">\n",
       "  <thead>\n",
       "    <tr style=\"text-align: right;\">\n",
       "      <th></th>\n",
       "      <th>aa_000</th>\n",
       "      <th>ac_000</th>\n",
       "      <th>ad_000</th>\n",
       "      <th>ae_000</th>\n",
       "      <th>af_000</th>\n",
       "      <th>ag_000</th>\n",
       "      <th>ag_001</th>\n",
       "      <th>ag_002</th>\n",
       "      <th>ag_003</th>\n",
       "      <th>ag_004</th>\n",
       "      <th>...</th>\n",
       "      <th>ee_002</th>\n",
       "      <th>ee_003</th>\n",
       "      <th>ee_004</th>\n",
       "      <th>ee_005</th>\n",
       "      <th>ee_006</th>\n",
       "      <th>ee_007</th>\n",
       "      <th>ee_008</th>\n",
       "      <th>ee_009</th>\n",
       "      <th>ef_000</th>\n",
       "      <th>eg_000</th>\n",
       "    </tr>\n",
       "  </thead>\n",
       "  <tbody>\n",
       "    <tr>\n",
       "      <th>0</th>\n",
       "      <td>76698.0</td>\n",
       "      <td>2.130706e+09</td>\n",
       "      <td>280.000000</td>\n",
       "      <td>0.0</td>\n",
       "      <td>0.0</td>\n",
       "      <td>0.0</td>\n",
       "      <td>0.0</td>\n",
       "      <td>0.0</td>\n",
       "      <td>0.0</td>\n",
       "      <td>37250.0</td>\n",
       "      <td>...</td>\n",
       "      <td>1240520.0</td>\n",
       "      <td>493384.0</td>\n",
       "      <td>721044.0</td>\n",
       "      <td>469792.0</td>\n",
       "      <td>339156.0</td>\n",
       "      <td>157956.0</td>\n",
       "      <td>73224.0</td>\n",
       "      <td>0.0</td>\n",
       "      <td>0.0</td>\n",
       "      <td>0.0</td>\n",
       "    </tr>\n",
       "    <tr>\n",
       "      <th>1</th>\n",
       "      <td>33058.0</td>\n",
       "      <td>0.000000e+00</td>\n",
       "      <td>190620.639314</td>\n",
       "      <td>0.0</td>\n",
       "      <td>0.0</td>\n",
       "      <td>0.0</td>\n",
       "      <td>0.0</td>\n",
       "      <td>0.0</td>\n",
       "      <td>0.0</td>\n",
       "      <td>18254.0</td>\n",
       "      <td>...</td>\n",
       "      <td>421400.0</td>\n",
       "      <td>178064.0</td>\n",
       "      <td>293306.0</td>\n",
       "      <td>245416.0</td>\n",
       "      <td>133654.0</td>\n",
       "      <td>81140.0</td>\n",
       "      <td>97576.0</td>\n",
       "      <td>1500.0</td>\n",
       "      <td>0.0</td>\n",
       "      <td>0.0</td>\n",
       "    </tr>\n",
       "    <tr>\n",
       "      <th>2</th>\n",
       "      <td>41040.0</td>\n",
       "      <td>2.280000e+02</td>\n",
       "      <td>100.000000</td>\n",
       "      <td>0.0</td>\n",
       "      <td>0.0</td>\n",
       "      <td>0.0</td>\n",
       "      <td>0.0</td>\n",
       "      <td>0.0</td>\n",
       "      <td>0.0</td>\n",
       "      <td>1648.0</td>\n",
       "      <td>...</td>\n",
       "      <td>277378.0</td>\n",
       "      <td>159812.0</td>\n",
       "      <td>423992.0</td>\n",
       "      <td>409564.0</td>\n",
       "      <td>320746.0</td>\n",
       "      <td>158022.0</td>\n",
       "      <td>95128.0</td>\n",
       "      <td>514.0</td>\n",
       "      <td>0.0</td>\n",
       "      <td>0.0</td>\n",
       "    </tr>\n",
       "    <tr>\n",
       "      <th>3</th>\n",
       "      <td>12.0</td>\n",
       "      <td>7.000000e+01</td>\n",
       "      <td>66.000000</td>\n",
       "      <td>0.0</td>\n",
       "      <td>10.0</td>\n",
       "      <td>0.0</td>\n",
       "      <td>0.0</td>\n",
       "      <td>0.0</td>\n",
       "      <td>318.0</td>\n",
       "      <td>2212.0</td>\n",
       "      <td>...</td>\n",
       "      <td>240.0</td>\n",
       "      <td>46.0</td>\n",
       "      <td>58.0</td>\n",
       "      <td>44.0</td>\n",
       "      <td>10.0</td>\n",
       "      <td>0.0</td>\n",
       "      <td>0.0</td>\n",
       "      <td>0.0</td>\n",
       "      <td>4.0</td>\n",
       "      <td>32.0</td>\n",
       "    </tr>\n",
       "    <tr>\n",
       "      <th>4</th>\n",
       "      <td>60874.0</td>\n",
       "      <td>1.368000e+03</td>\n",
       "      <td>458.000000</td>\n",
       "      <td>0.0</td>\n",
       "      <td>0.0</td>\n",
       "      <td>0.0</td>\n",
       "      <td>0.0</td>\n",
       "      <td>0.0</td>\n",
       "      <td>0.0</td>\n",
       "      <td>43752.0</td>\n",
       "      <td>...</td>\n",
       "      <td>622012.0</td>\n",
       "      <td>229790.0</td>\n",
       "      <td>405298.0</td>\n",
       "      <td>347188.0</td>\n",
       "      <td>286954.0</td>\n",
       "      <td>311560.0</td>\n",
       "      <td>433954.0</td>\n",
       "      <td>1218.0</td>\n",
       "      <td>0.0</td>\n",
       "      <td>0.0</td>\n",
       "    </tr>\n",
       "  </tbody>\n",
       "</table>\n",
       "<p>5 rows × 160 columns</p>\n",
       "</div>"
      ],
      "text/plain": [
       "    aa_000        ac_000         ad_000  ae_000  af_000  ag_000  ag_001  \\\n",
       "0  76698.0  2.130706e+09     280.000000     0.0     0.0     0.0     0.0   \n",
       "1  33058.0  0.000000e+00  190620.639314     0.0     0.0     0.0     0.0   \n",
       "2  41040.0  2.280000e+02     100.000000     0.0     0.0     0.0     0.0   \n",
       "3     12.0  7.000000e+01      66.000000     0.0    10.0     0.0     0.0   \n",
       "4  60874.0  1.368000e+03     458.000000     0.0     0.0     0.0     0.0   \n",
       "\n",
       "   ag_002  ag_003   ag_004  ...     ee_002    ee_003    ee_004    ee_005  \\\n",
       "0     0.0     0.0  37250.0  ...  1240520.0  493384.0  721044.0  469792.0   \n",
       "1     0.0     0.0  18254.0  ...   421400.0  178064.0  293306.0  245416.0   \n",
       "2     0.0     0.0   1648.0  ...   277378.0  159812.0  423992.0  409564.0   \n",
       "3     0.0   318.0   2212.0  ...      240.0      46.0      58.0      44.0   \n",
       "4     0.0     0.0  43752.0  ...   622012.0  229790.0  405298.0  347188.0   \n",
       "\n",
       "     ee_006    ee_007    ee_008  ee_009  ef_000  eg_000  \n",
       "0  339156.0  157956.0   73224.0     0.0     0.0     0.0  \n",
       "1  133654.0   81140.0   97576.0  1500.0     0.0     0.0  \n",
       "2  320746.0  158022.0   95128.0   514.0     0.0     0.0  \n",
       "3      10.0       0.0       0.0     0.0     4.0    32.0  \n",
       "4  286954.0  311560.0  433954.0  1218.0     0.0     0.0  \n",
       "\n",
       "[5 rows x 160 columns]"
      ]
     },
     "execution_count": 23,
     "metadata": {},
     "output_type": "execute_result"
    }
   ],
   "source": [
    "train_mean_imputed.head()"
   ]
  },
  {
   "cell_type": "markdown",
   "id": "ee8cf804",
   "metadata": {},
   "source": [
    "## Machine learning models"
   ]
  },
  {
   "cell_type": "code",
   "execution_count": 24,
   "id": "74e94eb3",
   "metadata": {},
   "outputs": [],
   "source": [
    "def result(cm): \n",
    "    sns.set(rc={'figure.figsize':(5,5)})\n",
    "    class_label = [\"negative\", \"positive\"]\n",
    "    df_cm = pd.DataFrame(cm, index = class_label, columns = class_label)\n",
    "    sns.heatmap(df_cm, annot = True, fmt = \"d\")\n",
    "    plt.title(\"Confusion Matrix\")\n",
    "    plt.xlabel(\"Predicted Label\")\n",
    "    plt.ylabel(\"True Label\")\n",
    "    plt.show()\n",
    "\n",
    "    print(\"Number of False Positive = \", cm[0][1])\n",
    "    print(\"Number of False Negative = \", cm[1][0])\n",
    "    Total_cost = cm[0][1] * 10 + cm[1][0] * 500\n",
    "    print(\"Total cost = \",Total_cost )\n",
    "    return Total_cost\n"
   ]
  },
  {
   "cell_type": "markdown",
   "id": "a7f7a66c",
   "metadata": {},
   "source": [
    "### Logistic Regression"
   ]
  },
  {
   "cell_type": "code",
   "execution_count": 24,
   "id": "59a9b90d",
   "metadata": {},
   "outputs": [
    {
     "name": "stdout",
     "output_type": "stream",
     "text": [
      "Fitting 3 folds for each of 9 candidates, totalling 27 fits\n",
      "Best HyperParameter:  {'C': 10}\n"
     ]
    }
   ],
   "source": [
    "clf=LogisticRegression(penalty='l2', class_weight = 'balanced')\n",
    "\n",
    "C_values = [10**x for x in range(-4,5)]\n",
    "tuned_parameters = [{'C': C_values}]\n",
    "\n",
    "gsvl = GridSearchCV(clf,tuned_parameters,cv=3,verbose=1,scoring='roc_auc', return_train_score=True, n_jobs=-1)\n",
    "gsvl.fit(train_mean_imputed,y_train)\n",
    "print(\"Best HyperParameter: \",gsvl.best_params_)"
   ]
  },
  {
   "cell_type": "code",
   "execution_count": 25,
   "id": "bb003897",
   "metadata": {},
   "outputs": [
    {
     "data": {
      "image/png": "[encoded data removed]",
      "text/plain": [
       "<Figure size 500x500 with 2 Axes>"
      ]
     },
     "metadata": {},
     "output_type": "display_data"
    },
    {
     "name": "stdout",
     "output_type": "stream",
     "text": [
      "Number of False Positive =  523\n",
      "Number of False Negative =  26\n",
      "Total cost =  18230\n"
     ]
    },
    {
     "data": {
      "text/plain": [
       "18230"
      ]
     },
     "execution_count": 25,
     "metadata": {},
     "output_type": "execute_result"
    }
   ],
   "source": [
    "clf = LogisticRegression(penalty='l2', C=0.1 ,n_jobs= -1, class_weight = 'balanced')\n",
    "clf.fit(train_mean_imputed,y_train)\n",
    "y_pred = clf.predict(test_mean_imputed)\n",
    "cm =confusion_matrix (y_test, y_pred)\n",
    "result(cm)"
   ]
  },
  {
   "cell_type": "code",
   "execution_count": 27,
   "id": "543ccd60",
   "metadata": {},
   "outputs": [
    {
     "name": "stdout",
     "output_type": "stream",
     "text": [
      "              precision    recall  f1-score   support\n",
      "\n",
      "           0       1.00      0.97      0.98     15625\n",
      "           1       0.40      0.93      0.56       375\n",
      "\n",
      "    accuracy                           0.97     16000\n",
      "   macro avg       0.70      0.95      0.77     16000\n",
      "weighted avg       0.98      0.97      0.97     16000\n",
      "\n"
     ]
    }
   ],
   "source": [
    "print(classification_report(y_test, y_pred))"
   ]
  },
  {
   "cell_type": "markdown",
   "id": "f170013d",
   "metadata": {},
   "source": [
    "### SVC"
   ]
  },
  {
   "cell_type": "code",
   "execution_count": 24,
   "id": "04995421",
   "metadata": {},
   "outputs": [
    {
     "data": {
      "text/plain": [
       "SVC(class_weight='balanced')"
      ]
     },
     "execution_count": 24,
     "metadata": {},
     "output_type": "execute_result"
    }
   ],
   "source": [
    "svc=SVC(class_weight='balanced')\n",
    "\n",
    "svc.fit(train_mean_imputed, y_train)"
   ]
  },
  {
   "cell_type": "code",
   "execution_count": 25,
   "id": "8f7902e3",
   "metadata": {},
   "outputs": [],
   "source": [
    "svc_pred=svc.predict(test_mean_imputed)"
   ]
  },
  {
   "cell_type": "code",
   "execution_count": 26,
   "id": "51c1d05f",
   "metadata": {},
   "outputs": [
    {
     "name": "stdout",
     "output_type": "stream",
     "text": [
      "              precision    recall  f1-score   support\n",
      "\n",
      "           0       1.00      0.96      0.98     15625\n",
      "           1       0.35      0.94      0.51       375\n",
      "\n",
      "    accuracy                           0.96     16000\n",
      "   macro avg       0.67      0.95      0.74     16000\n",
      "weighted avg       0.98      0.96      0.97     16000\n",
      "\n"
     ]
    }
   ],
   "source": [
    "print(classification_report(y_test, svc_pred))"
   ]
  },
  {
   "cell_type": "code",
   "execution_count": 28,
   "id": "bbf6f175",
   "metadata": {},
   "outputs": [
    {
     "data": {
      "image/png": "[encoded data removed]",
      "text/plain": [
       "<Figure size 640x480 with 1 Axes>"
      ]
     },
     "metadata": {},
     "output_type": "display_data"
    },
    {
     "name": "stdout",
     "output_type": "stream",
     "text": [
      "AUC-ROC score: 0.9467519999999999\n"
     ]
    }
   ],
   "source": [
    "fpr, tpr, thresholds = roc_curve(y_test, svc_pred)\n",
    "roc_auc = roc_auc_score(y_test, svc_pred)\n",
    "\n",
    "import matplotlib.pyplot as plt\n",
    "plt.plot(fpr, tpr)\n",
    "plt.xlabel('False Positive Rate')\n",
    "plt.ylabel('True Positive Rate')\n",
    "plt.title('ROC Curve')\n",
    "plt.show()\n",
    "\n",
    "# Print the AUC-ROC score\n",
    "print('AUC-ROC score:', roc_auc)"
   ]
  },
  {
   "cell_type": "markdown",
   "id": "330a24b3",
   "metadata": {},
   "source": [
    "### Decision Tree( hyperparameter tunning by oputna)"
   ]
  },
  {
   "cell_type": "code",
   "execution_count": 74,
   "id": "ed5cd50a",
   "metadata": {},
   "outputs": [],
   "source": [
    "def objective(trial):\n",
    "    # Define the hyperparameters to optimize\n",
    "    max_depth = trial.suggest_int('max_depth', 1, 10)\n",
    "    min_samples_split = trial.suggest_int('min_samples_split', 2, 20)\n",
    "    min_samples_leaf = trial.suggest_int('min_samples_leaf', 1, 10)\n",
    "\n",
    "    # Create the Decision Tree classifier with the optimized hyperparameters\n",
    "    clf = DecisionTreeClassifier(max_depth=max_depth,\n",
    "                                 min_samples_split=min_samples_split,\n",
    "                                 min_samples_leaf=min_samples_leaf)\n",
    "\n",
    "    # Evaluate the classifier with cross-validation\n",
    "    score = cross_val_score(clf, train_mean_imputed, y_train, cv=5).mean()\n",
    "\n",
    "    return score"
   ]
  },
  {
   "cell_type": "code",
   "execution_count": 75,
   "id": "56a7ff7a",
   "metadata": {},
   "outputs": [
    {
     "name": "stderr",
     "output_type": "stream",
     "text": [
      "\u001b[32m[I 2023-04-06 17:57:41,214]\u001b[0m A new study created in memory with name: no-name-67769ab7-c200-4315-a3f5-af0448679dbc\u001b[0m\n",
      "\u001b[32m[I 2023-04-06 17:58:07,112]\u001b[0m Trial 0 finished with value: 0.9906166666666666 and parameters: {'max_depth': 10, 'min_samples_split': 20, 'min_samples_leaf': 10}. Best is trial 0 with value: 0.9906166666666666.\u001b[0m\n",
      "\u001b[32m[I 2023-04-06 17:58:27,149]\u001b[0m Trial 1 finished with value: 0.9907 and parameters: {'max_depth': 9, 'min_samples_split': 6, 'min_samples_leaf': 8}. Best is trial 1 with value: 0.9907.\u001b[0m\n",
      "\u001b[32m[I 2023-04-06 17:58:45,021]\u001b[0m Trial 2 finished with value: 0.9905666666666667 and parameters: {'max_depth': 8, 'min_samples_split': 2, 'min_samples_leaf': 10}. Best is trial 1 with value: 0.9907.\u001b[0m\n",
      "\u001b[32m[I 2023-04-06 17:58:54,270]\u001b[0m Trial 3 finished with value: 0.9882333333333333 and parameters: {'max_depth': 4, 'min_samples_split': 16, 'min_samples_leaf': 7}. Best is trial 1 with value: 0.9907.\u001b[0m\n",
      "\u001b[32m[I 2023-04-06 17:59:10,191]\u001b[0m Trial 4 finished with value: 0.9907499999999999 and parameters: {'max_depth': 7, 'min_samples_split': 17, 'min_samples_leaf': 2}. Best is trial 4 with value: 0.9907499999999999.\u001b[0m\n",
      "\u001b[32m[I 2023-04-06 17:59:23,795]\u001b[0m Trial 5 finished with value: 0.9904833333333333 and parameters: {'max_depth': 6, 'min_samples_split': 4, 'min_samples_leaf': 1}. Best is trial 4 with value: 0.9907499999999999.\u001b[0m\n",
      "\u001b[32m[I 2023-04-06 17:59:43,841]\u001b[0m Trial 6 finished with value: 0.991 and parameters: {'max_depth': 9, 'min_samples_split': 11, 'min_samples_leaf': 4}. Best is trial 6 with value: 0.991.\u001b[0m\n",
      "\u001b[32m[I 2023-04-06 17:59:57,507]\u001b[0m Trial 7 finished with value: 0.9901500000000001 and parameters: {'max_depth': 6, 'min_samples_split': 6, 'min_samples_leaf': 10}. Best is trial 6 with value: 0.991.\u001b[0m\n",
      "\u001b[32m[I 2023-04-06 18:00:00,256]\u001b[0m Trial 8 finished with value: 0.9833333333333332 and parameters: {'max_depth': 1, 'min_samples_split': 11, 'min_samples_leaf': 6}. Best is trial 6 with value: 0.991.\u001b[0m\n",
      "\u001b[32m[I 2023-04-06 18:00:20,384]\u001b[0m Trial 9 finished with value: 0.9907499999999999 and parameters: {'max_depth': 9, 'min_samples_split': 11, 'min_samples_leaf': 7}. Best is trial 6 with value: 0.991.\u001b[0m\n",
      "\u001b[32m[I 2023-04-06 18:00:29,727]\u001b[0m Trial 10 finished with value: 0.9882333333333333 and parameters: {'max_depth': 4, 'min_samples_split': 14, 'min_samples_leaf': 4}. Best is trial 6 with value: 0.991.\u001b[0m\n",
      "\u001b[32m[I 2023-04-06 18:00:45,586]\u001b[0m Trial 11 finished with value: 0.9907999999999999 and parameters: {'max_depth': 7, 'min_samples_split': 16, 'min_samples_leaf': 3}. Best is trial 6 with value: 0.991.\u001b[0m\n",
      "\u001b[32m[I 2023-04-06 18:01:03,548]\u001b[0m Trial 12 finished with value: 0.9908833333333333 and parameters: {'max_depth': 8, 'min_samples_split': 13, 'min_samples_leaf': 4}. Best is trial 6 with value: 0.991.\u001b[0m\n",
      "\u001b[32m[I 2023-04-06 18:01:25,739]\u001b[0m Trial 13 finished with value: 0.9909166666666666 and parameters: {'max_depth': 10, 'min_samples_split': 8, 'min_samples_leaf': 4}. Best is trial 6 with value: 0.991.\u001b[0m\n",
      "\u001b[32m[I 2023-04-06 18:01:47,958]\u001b[0m Trial 14 finished with value: 0.9908833333333333 and parameters: {'max_depth': 10, 'min_samples_split': 8, 'min_samples_leaf': 5}. Best is trial 6 with value: 0.991.\u001b[0m\n",
      "\u001b[32m[I 2023-04-06 18:02:10,211]\u001b[0m Trial 15 finished with value: 0.9908333333333335 and parameters: {'max_depth': 10, 'min_samples_split': 9, 'min_samples_leaf': 3}. Best is trial 6 with value: 0.991.\u001b[0m\n",
      "\u001b[32m[I 2023-04-06 18:02:19,608]\u001b[0m Trial 16 finished with value: 0.9882666666666667 and parameters: {'max_depth': 4, 'min_samples_split': 9, 'min_samples_leaf': 5}. Best is trial 6 with value: 0.991.\u001b[0m\n",
      "\u001b[32m[I 2023-04-06 18:02:22,306]\u001b[0m Trial 17 finished with value: 0.9833333333333332 and parameters: {'max_depth': 1, 'min_samples_split': 13, 'min_samples_leaf': 1}. Best is trial 6 with value: 0.991.\u001b[0m\n",
      "\u001b[32m[I 2023-04-06 18:02:42,425]\u001b[0m Trial 18 finished with value: 0.9911333333333333 and parameters: {'max_depth': 9, 'min_samples_split': 7, 'min_samples_leaf': 3}. Best is trial 18 with value: 0.9911333333333333.\u001b[0m\n",
      "\u001b[32m[I 2023-04-06 18:03:00,393]\u001b[0m Trial 19 finished with value: 0.9910333333333334 and parameters: {'max_depth': 8, 'min_samples_split': 5, 'min_samples_leaf': 2}. Best is trial 18 with value: 0.9911333333333333.\u001b[0m\n",
      "\u001b[32m[I 2023-04-06 18:03:18,463]\u001b[0m Trial 20 finished with value: 0.9910666666666668 and parameters: {'max_depth': 8, 'min_samples_split': 2, 'min_samples_leaf': 2}. Best is trial 18 with value: 0.9911333333333333.\u001b[0m\n",
      "\u001b[32m[I 2023-04-06 18:03:36,472]\u001b[0m Trial 21 finished with value: 0.99125 and parameters: {'max_depth': 8, 'min_samples_split': 3, 'min_samples_leaf': 2}. Best is trial 21 with value: 0.99125.\u001b[0m\n",
      "\u001b[32m[I 2023-04-06 18:03:52,286]\u001b[0m Trial 22 finished with value: 0.9910833333333333 and parameters: {'max_depth': 7, 'min_samples_split': 2, 'min_samples_leaf': 2}. Best is trial 21 with value: 0.99125.\u001b[0m\n",
      "\u001b[32m[I 2023-04-06 18:04:08,126]\u001b[0m Trial 23 finished with value: 0.99095 and parameters: {'max_depth': 7, 'min_samples_split': 4, 'min_samples_leaf': 3}. Best is trial 21 with value: 0.99125.\u001b[0m\n",
      "\u001b[32m[I 2023-04-06 18:04:19,598]\u001b[0m Trial 24 finished with value: 0.9904166666666667 and parameters: {'max_depth': 5, 'min_samples_split': 3, 'min_samples_leaf': 1}. Best is trial 21 with value: 0.99125.\u001b[0m\n",
      "\u001b[32m[I 2023-04-06 18:04:35,374]\u001b[0m Trial 25 finished with value: 0.9908833333333333 and parameters: {'max_depth': 7, 'min_samples_split': 6, 'min_samples_leaf': 2}. Best is trial 21 with value: 0.99125.\u001b[0m\n",
      "\u001b[32m[I 2023-04-06 18:04:46,794]\u001b[0m Trial 26 finished with value: 0.9902833333333334 and parameters: {'max_depth': 5, 'min_samples_split': 4, 'min_samples_leaf': 3}. Best is trial 21 with value: 0.99125.\u001b[0m\n",
      "\u001b[32m[I 2023-04-06 18:05:06,904]\u001b[0m Trial 27 finished with value: 0.9911666666666668 and parameters: {'max_depth': 9, 'min_samples_split': 2, 'min_samples_leaf': 1}. Best is trial 21 with value: 0.99125.\u001b[0m\n",
      "\u001b[32m[I 2023-04-06 18:05:27,083]\u001b[0m Trial 28 finished with value: 0.9910333333333332 and parameters: {'max_depth': 9, 'min_samples_split': 7, 'min_samples_leaf': 1}. Best is trial 21 with value: 0.99125.\u001b[0m\n",
      "\u001b[32m[I 2023-04-06 18:05:47,143]\u001b[0m Trial 29 finished with value: 0.9910500000000001 and parameters: {'max_depth': 9, 'min_samples_split': 3, 'min_samples_leaf': 1}. Best is trial 21 with value: 0.99125.\u001b[0m\n",
      "\u001b[32m[I 2023-04-06 18:06:09,429]\u001b[0m Trial 30 finished with value: 0.9910166666666665 and parameters: {'max_depth': 10, 'min_samples_split': 5, 'min_samples_leaf': 3}. Best is trial 21 with value: 0.99125.\u001b[0m\n",
      "\u001b[32m[I 2023-04-06 18:06:27,497]\u001b[0m Trial 31 finished with value: 0.9910499999999999 and parameters: {'max_depth': 8, 'min_samples_split': 2, 'min_samples_leaf': 2}. Best is trial 21 with value: 0.99125.\u001b[0m\n",
      "\u001b[32m[I 2023-04-06 18:06:47,643]\u001b[0m Trial 32 finished with value: 0.99115 and parameters: {'max_depth': 9, 'min_samples_split': 3, 'min_samples_leaf': 2}. Best is trial 21 with value: 0.99125.\u001b[0m\n",
      "\u001b[32m[I 2023-04-06 18:07:07,729]\u001b[0m Trial 33 finished with value: 0.9906666666666666 and parameters: {'max_depth': 9, 'min_samples_split': 20, 'min_samples_leaf': 1}. Best is trial 21 with value: 0.99125.\u001b[0m\n",
      "\u001b[32m[I 2023-04-06 18:07:27,901]\u001b[0m Trial 34 finished with value: 0.99115 and parameters: {'max_depth': 9, 'min_samples_split': 3, 'min_samples_leaf': 2}. Best is trial 21 with value: 0.99125.\u001b[0m\n",
      "\u001b[32m[I 2023-04-06 18:07:50,109]\u001b[0m Trial 35 finished with value: 0.9907166666666667 and parameters: {'max_depth': 10, 'min_samples_split': 3, 'min_samples_leaf': 9}. Best is trial 21 with value: 0.99125.\u001b[0m\n",
      "\u001b[32m[I 2023-04-06 18:08:08,136]\u001b[0m Trial 36 finished with value: 0.9911833333333334 and parameters: {'max_depth': 8, 'min_samples_split': 5, 'min_samples_leaf': 2}. Best is trial 21 with value: 0.99125.\u001b[0m\n",
      "\u001b[32m[I 2023-04-06 18:08:21,778]\u001b[0m Trial 37 finished with value: 0.9904166666666667 and parameters: {'max_depth': 6, 'min_samples_split': 4, 'min_samples_leaf': 1}. Best is trial 21 with value: 0.99125.\u001b[0m\n",
      "\u001b[32m[I 2023-04-06 18:08:39,668]\u001b[0m Trial 38 finished with value: 0.99125 and parameters: {'max_depth': 8, 'min_samples_split': 5, 'min_samples_leaf': 2}. Best is trial 21 with value: 0.99125.\u001b[0m\n"
     ]
    },
    {
     "name": "stderr",
     "output_type": "stream",
     "text": [
      "\u001b[32m[I 2023-04-06 18:08:57,619]\u001b[0m Trial 39 finished with value: 0.9907833333333335 and parameters: {'max_depth': 8, 'min_samples_split': 5, 'min_samples_leaf': 5}. Best is trial 21 with value: 0.99125.\u001b[0m\n",
      "\u001b[32m[I 2023-04-06 18:09:02,481]\u001b[0m Trial 40 finished with value: 0.9866666666666667 and parameters: {'max_depth': 2, 'min_samples_split': 6, 'min_samples_leaf': 6}. Best is trial 21 with value: 0.99125.\u001b[0m\n",
      "\u001b[32m[I 2023-04-06 18:09:20,629]\u001b[0m Trial 41 finished with value: 0.99115 and parameters: {'max_depth': 8, 'min_samples_split': 2, 'min_samples_leaf': 2}. Best is trial 21 with value: 0.99125.\u001b[0m\n",
      "\u001b[32m[I 2023-04-06 18:09:36,414]\u001b[0m Trial 42 finished with value: 0.991 and parameters: {'max_depth': 7, 'min_samples_split': 5, 'min_samples_leaf': 2}. Best is trial 21 with value: 0.99125.\u001b[0m\n",
      "\u001b[32m[I 2023-04-06 18:09:54,340]\u001b[0m Trial 43 finished with value: 0.9908999999999999 and parameters: {'max_depth': 8, 'min_samples_split': 4, 'min_samples_leaf': 1}. Best is trial 21 with value: 0.99125.\u001b[0m\n",
      "\u001b[32m[I 2023-04-06 18:10:14,437]\u001b[0m Trial 44 finished with value: 0.9910666666666665 and parameters: {'max_depth': 9, 'min_samples_split': 3, 'min_samples_leaf': 3}. Best is trial 21 with value: 0.99125.\u001b[0m\n",
      "\u001b[32m[I 2023-04-06 18:10:30,276]\u001b[0m Trial 45 finished with value: 0.9909333333333332 and parameters: {'max_depth': 7, 'min_samples_split': 7, 'min_samples_leaf': 4}. Best is trial 21 with value: 0.99125.\u001b[0m\n",
      "\u001b[32m[I 2023-04-06 18:10:43,910]\u001b[0m Trial 46 finished with value: 0.9902 and parameters: {'max_depth': 6, 'min_samples_split': 4, 'min_samples_leaf': 8}. Best is trial 21 with value: 0.99125.\u001b[0m\n",
      "\u001b[32m[I 2023-04-06 18:11:01,775]\u001b[0m Trial 47 finished with value: 0.9910166666666667 and parameters: {'max_depth': 8, 'min_samples_split': 2, 'min_samples_leaf': 2}. Best is trial 21 with value: 0.99125.\u001b[0m\n",
      "\u001b[32m[I 2023-04-06 18:11:24,186]\u001b[0m Trial 48 finished with value: 0.9913666666666666 and parameters: {'max_depth': 10, 'min_samples_split': 5, 'min_samples_leaf': 1}. Best is trial 48 with value: 0.9913666666666666.\u001b[0m\n",
      "\u001b[32m[I 2023-04-06 18:11:46,486]\u001b[0m Trial 49 finished with value: 0.9913333333333334 and parameters: {'max_depth': 10, 'min_samples_split': 9, 'min_samples_leaf': 1}. Best is trial 48 with value: 0.9913666666666666.\u001b[0m\n",
      "\u001b[32m[I 2023-04-06 18:12:08,863]\u001b[0m Trial 50 finished with value: 0.9913833333333333 and parameters: {'max_depth': 10, 'min_samples_split': 10, 'min_samples_leaf': 1}. Best is trial 50 with value: 0.9913833333333333.\u001b[0m\n",
      "\u001b[32m[I 2023-04-06 18:12:31,151]\u001b[0m Trial 51 finished with value: 0.9909166666666668 and parameters: {'max_depth': 10, 'min_samples_split': 10, 'min_samples_leaf': 1}. Best is trial 50 with value: 0.9913833333333333.\u001b[0m\n",
      "\u001b[32m[I 2023-04-06 18:12:53,946]\u001b[0m Trial 52 finished with value: 0.9913500000000001 and parameters: {'max_depth': 10, 'min_samples_split': 12, 'min_samples_leaf': 1}. Best is trial 50 with value: 0.9913833333333333.\u001b[0m\n",
      "\u001b[32m[I 2023-04-06 18:13:16,425]\u001b[0m Trial 53 finished with value: 0.9912000000000001 and parameters: {'max_depth': 10, 'min_samples_split': 12, 'min_samples_leaf': 1}. Best is trial 50 with value: 0.9913833333333333.\u001b[0m\n",
      "\u001b[32m[I 2023-04-06 18:13:38,776]\u001b[0m Trial 54 finished with value: 0.9909166666666666 and parameters: {'max_depth': 10, 'min_samples_split': 15, 'min_samples_leaf': 1}. Best is trial 50 with value: 0.9913833333333333.\u001b[0m\n",
      "\u001b[32m[I 2023-04-06 18:14:01,139]\u001b[0m Trial 55 finished with value: 0.9911666666666668 and parameters: {'max_depth': 10, 'min_samples_split': 10, 'min_samples_leaf': 1}. Best is trial 50 with value: 0.9913833333333333.\u001b[0m\n",
      "\u001b[32m[I 2023-04-06 18:14:23,585]\u001b[0m Trial 56 finished with value: 0.99115 and parameters: {'max_depth': 10, 'min_samples_split': 12, 'min_samples_leaf': 1}. Best is trial 50 with value: 0.9913833333333333.\u001b[0m\n",
      "\u001b[32m[I 2023-04-06 18:14:45,892]\u001b[0m Trial 57 finished with value: 0.9910166666666667 and parameters: {'max_depth': 10, 'min_samples_split': 9, 'min_samples_leaf': 3}. Best is trial 50 with value: 0.9913833333333333.\u001b[0m\n",
      "\u001b[32m[I 2023-04-06 18:15:08,336]\u001b[0m Trial 58 finished with value: 0.9914166666666666 and parameters: {'max_depth': 10, 'min_samples_split': 10, 'min_samples_leaf': 2}. Best is trial 58 with value: 0.9914166666666666.\u001b[0m\n",
      "\u001b[32m[I 2023-04-06 18:15:30,696]\u001b[0m Trial 59 finished with value: 0.9913166666666667 and parameters: {'max_depth': 10, 'min_samples_split': 10, 'min_samples_leaf': 2}. Best is trial 58 with value: 0.9914166666666666.\u001b[0m\n",
      "\u001b[32m[I 2023-04-06 18:15:53,115]\u001b[0m Trial 60 finished with value: 0.9912000000000001 and parameters: {'max_depth': 10, 'min_samples_split': 10, 'min_samples_leaf': 1}. Best is trial 58 with value: 0.9914166666666666.\u001b[0m\n",
      "\u001b[32m[I 2023-04-06 18:16:15,469]\u001b[0m Trial 61 finished with value: 0.9912833333333333 and parameters: {'max_depth': 10, 'min_samples_split': 12, 'min_samples_leaf': 2}. Best is trial 58 with value: 0.9914166666666666.\u001b[0m\n",
      "\u001b[32m[I 2023-04-06 18:16:37,924]\u001b[0m Trial 62 finished with value: 0.99145 and parameters: {'max_depth': 10, 'min_samples_split': 12, 'min_samples_leaf': 1}. Best is trial 62 with value: 0.99145.\u001b[0m\n",
      "\u001b[32m[I 2023-04-06 18:17:00,122]\u001b[0m Trial 63 finished with value: 0.9908833333333332 and parameters: {'max_depth': 10, 'min_samples_split': 13, 'min_samples_leaf': 1}. Best is trial 62 with value: 0.99145.\u001b[0m\n",
      "\u001b[32m[I 2023-04-06 18:17:20,310]\u001b[0m Trial 64 finished with value: 0.99095 and parameters: {'max_depth': 9, 'min_samples_split': 11, 'min_samples_leaf': 1}. Best is trial 62 with value: 0.99145.\u001b[0m\n",
      "\u001b[32m[I 2023-04-06 18:17:42,675]\u001b[0m Trial 65 finished with value: 0.9912333333333333 and parameters: {'max_depth': 10, 'min_samples_split': 9, 'min_samples_leaf': 1}. Best is trial 62 with value: 0.99145.\u001b[0m\n",
      "\u001b[32m[I 2023-04-06 18:18:02,796]\u001b[0m Trial 66 finished with value: 0.9911666666666668 and parameters: {'max_depth': 9, 'min_samples_split': 11, 'min_samples_leaf': 2}. Best is trial 62 with value: 0.99145.\u001b[0m\n",
      "\u001b[32m[I 2023-04-06 18:18:09,883]\u001b[0m Trial 67 finished with value: 0.9892000000000001 and parameters: {'max_depth': 3, 'min_samples_split': 8, 'min_samples_leaf': 7}. Best is trial 62 with value: 0.99145.\u001b[0m\n",
      "\u001b[32m[I 2023-04-06 18:18:29,973]\u001b[0m Trial 68 finished with value: 0.9909666666666667 and parameters: {'max_depth': 9, 'min_samples_split': 14, 'min_samples_leaf': 3}. Best is trial 62 with value: 0.99145.\u001b[0m\n",
      "\u001b[32m[I 2023-04-06 18:18:52,273]\u001b[0m Trial 69 finished with value: 0.99125 and parameters: {'max_depth': 10, 'min_samples_split': 10, 'min_samples_leaf': 1}. Best is trial 62 with value: 0.99145.\u001b[0m\n",
      "\u001b[32m[I 2023-04-06 18:19:12,473]\u001b[0m Trial 70 finished with value: 0.9906666666666666 and parameters: {'max_depth': 9, 'min_samples_split': 13, 'min_samples_leaf': 2}. Best is trial 62 with value: 0.99145.\u001b[0m\n",
      "\u001b[32m[I 2023-04-06 18:19:34,744]\u001b[0m Trial 71 finished with value: 0.9914999999999999 and parameters: {'max_depth': 10, 'min_samples_split': 12, 'min_samples_leaf': 2}. Best is trial 71 with value: 0.9914999999999999.\u001b[0m\n",
      "\u001b[32m[I 2023-04-06 18:19:57,013]\u001b[0m Trial 72 finished with value: 0.99125 and parameters: {'max_depth': 10, 'min_samples_split': 12, 'min_samples_leaf': 1}. Best is trial 71 with value: 0.9914999999999999.\u001b[0m\n",
      "\u001b[32m[I 2023-04-06 18:20:19,258]\u001b[0m Trial 73 finished with value: 0.9912833333333333 and parameters: {'max_depth': 10, 'min_samples_split': 11, 'min_samples_leaf': 2}. Best is trial 71 with value: 0.9914999999999999.\u001b[0m\n",
      "\u001b[32m[I 2023-04-06 18:20:41,525]\u001b[0m Trial 74 finished with value: 0.9912166666666667 and parameters: {'max_depth': 10, 'min_samples_split': 14, 'min_samples_leaf': 1}. Best is trial 71 with value: 0.9914999999999999.\u001b[0m\n",
      "\u001b[32m[I 2023-04-06 18:21:01,631]\u001b[0m Trial 75 finished with value: 0.9907999999999999 and parameters: {'max_depth': 9, 'min_samples_split': 17, 'min_samples_leaf': 4}. Best is trial 71 with value: 0.9914999999999999.\u001b[0m\n",
      "\u001b[32m[I 2023-04-06 18:21:23,960]\u001b[0m Trial 76 finished with value: 0.9913333333333334 and parameters: {'max_depth': 10, 'min_samples_split': 8, 'min_samples_leaf': 2}. Best is trial 71 with value: 0.9914999999999999.\u001b[0m\n",
      "\u001b[32m[I 2023-04-06 18:21:44,041]\u001b[0m Trial 77 finished with value: 0.9911 and parameters: {'max_depth': 9, 'min_samples_split': 9, 'min_samples_leaf': 3}. Best is trial 71 with value: 0.9914999999999999.\u001b[0m\n"
     ]
    },
    {
     "name": "stderr",
     "output_type": "stream",
     "text": [
      "\u001b[32m[I 2023-04-06 18:22:06,386]\u001b[0m Trial 78 finished with value: 0.9911166666666666 and parameters: {'max_depth': 10, 'min_samples_split': 8, 'min_samples_leaf': 1}. Best is trial 71 with value: 0.9914999999999999.\u001b[0m\n",
      "\u001b[32m[I 2023-04-06 18:22:26,665]\u001b[0m Trial 79 finished with value: 0.9908999999999999 and parameters: {'max_depth': 9, 'min_samples_split': 8, 'min_samples_leaf': 2}. Best is trial 71 with value: 0.9914999999999999.\u001b[0m\n",
      "\u001b[32m[I 2023-04-06 18:22:48,983]\u001b[0m Trial 80 finished with value: 0.9905999999999999 and parameters: {'max_depth': 10, 'min_samples_split': 11, 'min_samples_leaf': 10}. Best is trial 71 with value: 0.9914999999999999.\u001b[0m\n",
      "\u001b[32m[I 2023-04-06 18:23:11,527]\u001b[0m Trial 81 finished with value: 0.9910166666666667 and parameters: {'max_depth': 10, 'min_samples_split': 10, 'min_samples_leaf': 2}. Best is trial 71 with value: 0.9914999999999999.\u001b[0m\n",
      "\u001b[32m[I 2023-04-06 18:23:33,851]\u001b[0m Trial 82 finished with value: 0.9912666666666666 and parameters: {'max_depth': 10, 'min_samples_split': 12, 'min_samples_leaf': 3}. Best is trial 71 with value: 0.9914999999999999.\u001b[0m\n",
      "\u001b[32m[I 2023-04-06 18:23:56,224]\u001b[0m Trial 83 finished with value: 0.9911666666666668 and parameters: {'max_depth': 10, 'min_samples_split': 10, 'min_samples_leaf': 2}. Best is trial 71 with value: 0.9914999999999999.\u001b[0m\n",
      "\u001b[32m[I 2023-04-06 18:24:16,535]\u001b[0m Trial 84 finished with value: 0.9910833333333333 and parameters: {'max_depth': 9, 'min_samples_split': 7, 'min_samples_leaf': 1}. Best is trial 71 with value: 0.9914999999999999.\u001b[0m\n",
      "\u001b[32m[I 2023-04-06 18:24:38,882]\u001b[0m Trial 85 finished with value: 0.9912333333333333 and parameters: {'max_depth': 10, 'min_samples_split': 9, 'min_samples_leaf': 2}. Best is trial 71 with value: 0.9914999999999999.\u001b[0m\n",
      "\u001b[32m[I 2023-04-06 18:25:01,187]\u001b[0m Trial 86 finished with value: 0.9907999999999999 and parameters: {'max_depth': 10, 'min_samples_split': 13, 'min_samples_leaf': 1}. Best is trial 71 with value: 0.9914999999999999.\u001b[0m\n",
      "\u001b[32m[I 2023-04-06 18:25:21,374]\u001b[0m Trial 87 finished with value: 0.9909166666666666 and parameters: {'max_depth': 9, 'min_samples_split': 11, 'min_samples_leaf': 3}. Best is trial 71 with value: 0.9914999999999999.\u001b[0m\n",
      "\u001b[32m[I 2023-04-06 18:25:32,879]\u001b[0m Trial 88 finished with value: 0.9903666666666666 and parameters: {'max_depth': 5, 'min_samples_split': 9, 'min_samples_leaf': 2}. Best is trial 71 with value: 0.9914999999999999.\u001b[0m\n",
      "\u001b[32m[I 2023-04-06 18:25:55,156]\u001b[0m Trial 89 finished with value: 0.9910833333333334 and parameters: {'max_depth': 10, 'min_samples_split': 12, 'min_samples_leaf': 1}. Best is trial 71 with value: 0.9914999999999999.\u001b[0m\n",
      "\u001b[32m[I 2023-04-06 18:26:15,305]\u001b[0m Trial 90 finished with value: 0.9911666666666668 and parameters: {'max_depth': 9, 'min_samples_split': 8, 'min_samples_leaf': 2}. Best is trial 71 with value: 0.9914999999999999.\u001b[0m\n",
      "\u001b[32m[I 2023-04-06 18:26:37,669]\u001b[0m Trial 91 finished with value: 0.9912166666666666 and parameters: {'max_depth': 10, 'min_samples_split': 12, 'min_samples_leaf': 2}. Best is trial 71 with value: 0.9914999999999999.\u001b[0m\n",
      "\u001b[32m[I 2023-04-06 18:27:00,030]\u001b[0m Trial 92 finished with value: 0.9915166666666666 and parameters: {'max_depth': 10, 'min_samples_split': 11, 'min_samples_leaf': 2}. Best is trial 92 with value: 0.9915166666666666.\u001b[0m\n",
      "\u001b[32m[I 2023-04-06 18:27:22,379]\u001b[0m Trial 93 finished with value: 0.9911166666666666 and parameters: {'max_depth': 10, 'min_samples_split': 11, 'min_samples_leaf': 1}. Best is trial 92 with value: 0.9915166666666666.\u001b[0m\n",
      "\u001b[32m[I 2023-04-06 18:27:44,615]\u001b[0m Trial 94 finished with value: 0.99125 and parameters: {'max_depth': 10, 'min_samples_split': 10, 'min_samples_leaf': 2}. Best is trial 92 with value: 0.9915166666666666.\u001b[0m\n",
      "\u001b[32m[I 2023-04-06 18:28:06,917]\u001b[0m Trial 95 finished with value: 0.9909666666666667 and parameters: {'max_depth': 10, 'min_samples_split': 11, 'min_samples_leaf': 1}. Best is trial 92 with value: 0.9915166666666666.\u001b[0m\n",
      "\u001b[32m[I 2023-04-06 18:28:27,063]\u001b[0m Trial 96 finished with value: 0.9908833333333333 and parameters: {'max_depth': 9, 'min_samples_split': 9, 'min_samples_leaf': 1}. Best is trial 92 with value: 0.9915166666666666.\u001b[0m\n",
      "\u001b[32m[I 2023-04-06 18:28:49,541]\u001b[0m Trial 97 finished with value: 0.9911 and parameters: {'max_depth': 10, 'min_samples_split': 10, 'min_samples_leaf': 3}. Best is trial 92 with value: 0.9915166666666666.\u001b[0m\n",
      "\u001b[32m[I 2023-04-06 18:29:09,841]\u001b[0m Trial 98 finished with value: 0.9908166666666667 and parameters: {'max_depth': 9, 'min_samples_split': 13, 'min_samples_leaf': 1}. Best is trial 92 with value: 0.9915166666666666.\u001b[0m\n",
      "\u001b[32m[I 2023-04-06 18:29:32,535]\u001b[0m Trial 99 finished with value: 0.9912833333333333 and parameters: {'max_depth': 10, 'min_samples_split': 12, 'min_samples_leaf': 2}. Best is trial 92 with value: 0.9915166666666666.\u001b[0m\n"
     ]
    }
   ],
   "source": [
    "# Define the study for Optuna to optimize the hyperparameters\n",
    "study = optuna.create_study(direction='maximize')\n",
    "study.optimize(objective, n_trials=100)\n"
   ]
  },
  {
   "cell_type": "code",
   "execution_count": 76,
   "id": "49ca0538",
   "metadata": {},
   "outputs": [
    {
     "name": "stdout",
     "output_type": "stream",
     "text": [
      "Best hyperparameters:  {'max_depth': 10, 'min_samples_split': 11, 'min_samples_leaf': 2}\n"
     ]
    }
   ],
   "source": [
    "print('Best hyperparameters: ', study.best_params)"
   ]
  },
  {
   "cell_type": "code",
   "execution_count": 77,
   "id": "9df3198c",
   "metadata": {},
   "outputs": [],
   "source": [
    "best_clf = DecisionTreeClassifier(max_depth=study.best_params['max_depth'],\n",
    "                                   min_samples_split=study.best_params['min_samples_split'],\n",
    "                                   min_samples_leaf=study.best_params['min_samples_leaf'])"
   ]
  },
  {
   "cell_type": "code",
   "execution_count": 78,
   "id": "80a61fb1",
   "metadata": {},
   "outputs": [
    {
     "data": {
      "text/plain": [
       "DecisionTreeClassifier(max_depth=10, min_samples_leaf=2, min_samples_split=11)"
      ]
     },
     "execution_count": 78,
     "metadata": {},
     "output_type": "execute_result"
    }
   ],
   "source": [
    "best_clf.fit(train_mean_imputed, y_train)"
   ]
  },
  {
   "cell_type": "code",
   "execution_count": 79,
   "id": "bda28689",
   "metadata": {},
   "outputs": [],
   "source": [
    "dt_optuna_predict=best_clf.predict(test_mean_imputed)"
   ]
  },
  {
   "cell_type": "code",
   "execution_count": 80,
   "id": "a94dfcb2",
   "metadata": {},
   "outputs": [
    {
     "data": {
      "text/plain": [
       "0.98925"
      ]
     },
     "execution_count": 80,
     "metadata": {},
     "output_type": "execute_result"
    }
   ],
   "source": [
    "accuracy_score(y_test, dt_optuna_predict)"
   ]
  },
  {
   "cell_type": "code",
   "execution_count": 81,
   "id": "c9cce2ed",
   "metadata": {},
   "outputs": [
    {
     "name": "stdout",
     "output_type": "stream",
     "text": [
      "              precision    recall  f1-score   support\n",
      "\n",
      "           0       0.99      1.00      0.99     15625\n",
      "           1       0.87      0.63      0.73       375\n",
      "\n",
      "    accuracy                           0.99     16000\n",
      "   macro avg       0.93      0.81      0.86     16000\n",
      "weighted avg       0.99      0.99      0.99     16000\n",
      "\n"
     ]
    }
   ],
   "source": [
    "print(classification_report(y_test, dt_optuna_predict))"
   ]
  },
  {
   "cell_type": "code",
   "execution_count": 82,
   "id": "b38a510e",
   "metadata": {},
   "outputs": [
    {
     "data": {
      "text/plain": [
       "0.8149120000000001"
      ]
     },
     "execution_count": 82,
     "metadata": {},
     "output_type": "execute_result"
    }
   ],
   "source": [
    "roc_auc_score(y_test, dt_optuna_predict)"
   ]
  },
  {
   "cell_type": "code",
   "execution_count": 83,
   "id": "804d998a",
   "metadata": {},
   "outputs": [
    {
     "data": {
      "image/png": "[encoded data removed]",
      "text/plain": [
       "<Figure size 500x500 with 1 Axes>"
      ]
     },
     "metadata": {},
     "output_type": "display_data"
    },
    {
     "name": "stdout",
     "output_type": "stream",
     "text": [
      "AUC-ROC score: 0.8149120000000001\n"
     ]
    }
   ],
   "source": [
    "fpr, tpr, thresholds = roc_curve(y_test, dt_optuna_predict)\n",
    "roc_auc = roc_auc_score(y_test, dt_optuna_predict)\n",
    "\n",
    "import matplotlib.pyplot as plt\n",
    "plt.plot(fpr, tpr)\n",
    "plt.xlabel('False Positive Rate')\n",
    "plt.ylabel('True Positive Rate')\n",
    "plt.title('ROC Curve')\n",
    "plt.show()\n",
    "\n",
    "# Print the AUC-ROC score\n",
    "print('AUC-ROC score:', roc_auc)"
   ]
  },
  {
   "cell_type": "markdown",
   "id": "e6ea794b",
   "metadata": {},
   "source": [
    "### Random forest classifier(by gridsearchcv)"
   ]
  },
  {
   "cell_type": "code",
   "execution_count": 29,
   "id": "2751fb98",
   "metadata": {},
   "outputs": [
    {
     "name": "stdout",
     "output_type": "stream",
     "text": [
      "Fitting 3 folds for each of 18 candidates, totalling 54 fits\n",
      "Best HyperParameter:  {'max_depth': 6, 'n_estimators': 15}\n"
     ]
    }
   ],
   "source": [
    "clf=RandomForestClassifier(class_weight = 'balanced')\n",
    "\n",
    "depth=list(range(3, 10 ,3))\n",
    "nEstimator = list(range(3, 20 ,3))\n",
    "tuned_parameters = [{'max_depth':depth,'n_estimators':nEstimator}]\n",
    "gsvr = GridSearchCV(clf,tuned_parameters,cv=3,verbose=1,scoring='roc_auc', return_train_score=True, n_jobs=-1)\n",
    "gsvr.fit(train_mean_imputed,y_train)\n",
    "print(\"Best HyperParameter: \",gsvr.best_params_)"
   ]
  },
  {
   "cell_type": "code",
   "execution_count": 33,
   "id": "51893d34",
   "metadata": {},
   "outputs": [
    {
     "data": {
      "image/png": "[encoded data removed]",
      "text/plain": [
       "<Figure size 500x500 with 2 Axes>"
      ]
     },
     "metadata": {},
     "output_type": "display_data"
    },
    {
     "name": "stdout",
     "output_type": "stream",
     "text": [
      "Number of False Positive =  496\n",
      "Number of False Negative =  21\n",
      "Total cost =  15460\n"
     ]
    },
    {
     "data": {
      "text/plain": [
       "15460"
      ]
     },
     "execution_count": 33,
     "metadata": {},
     "output_type": "execute_result"
    }
   ],
   "source": [
    "clf = RandomForestClassifier(n_estimators= 15 , max_depth=6, n_jobs= -1, class_weight = 'balanced')\n",
    "clf.fit(train_mean_imputed,y_train)\n",
    "y_predd = clf.predict(test_mean_imputed)\n",
    "cm =confusion_matrix (y_test, y_pred)\n",
    "result(cm)"
   ]
  },
  {
   "cell_type": "code",
   "execution_count": 36,
   "id": "5710e007",
   "metadata": {},
   "outputs": [
    {
     "name": "stdout",
     "output_type": "stream",
     "text": [
      "              precision    recall  f1-score   support\n",
      "\n",
      "           0       1.00      0.97      0.98     15625\n",
      "           1       0.40      0.94      0.56       375\n",
      "\n",
      "    accuracy                           0.97     16000\n",
      "   macro avg       0.70      0.95      0.77     16000\n",
      "weighted avg       0.98      0.97      0.97     16000\n",
      "\n"
     ]
    }
   ],
   "source": [
    "print(classification_report(y_test, y_predd))"
   ]
  },
  {
   "cell_type": "markdown",
   "id": "a38e79e5",
   "metadata": {},
   "source": [
    "### Adaboost(Decision Tree)"
   ]
  },
  {
   "cell_type": "code",
   "execution_count": 24,
   "id": "2e18dd85",
   "metadata": {},
   "outputs": [],
   "source": [
    "dtc = DecisionTreeClassifier(max_depth=1)\n",
    "ada = AdaBoostClassifier(base_estimator=dtc, n_estimators=50, learning_rate=1.0, random_state=42)"
   ]
  },
  {
   "cell_type": "code",
   "execution_count": 25,
   "id": "91612134",
   "metadata": {},
   "outputs": [
    {
     "data": {
      "text/plain": [
       "AdaBoostClassifier(base_estimator=DecisionTreeClassifier(max_depth=1),\n",
       "                   random_state=42)"
      ]
     },
     "execution_count": 25,
     "metadata": {},
     "output_type": "execute_result"
    }
   ],
   "source": [
    "ada.fit(train_mean_imputed, y_train)"
   ]
  },
  {
   "cell_type": "code",
   "execution_count": 29,
   "id": "1552e6ae",
   "metadata": {},
   "outputs": [],
   "source": [
    "y_predict = ada.predict(test_mean_imputed)"
   ]
  },
  {
   "cell_type": "code",
   "execution_count": 30,
   "id": "8d04e468",
   "metadata": {},
   "outputs": [
    {
     "name": "stdout",
     "output_type": "stream",
     "text": [
      "              precision    recall  f1-score   support\n",
      "\n",
      "           0       0.99      1.00      0.99     15625\n",
      "           1       0.84      0.62      0.71       375\n",
      "\n",
      "    accuracy                           0.99     16000\n",
      "   macro avg       0.92      0.81      0.85     16000\n",
      "weighted avg       0.99      0.99      0.99     16000\n",
      "\n"
     ]
    }
   ],
   "source": [
    "print(classification_report(y_test, y_predict))"
   ]
  },
  {
   "cell_type": "markdown",
   "id": "741267f3",
   "metadata": {},
   "source": [
    "### Gradient boosting classifier\n"
   ]
  },
  {
   "cell_type": "code",
   "execution_count": 26,
   "id": "0bf216d2",
   "metadata": {},
   "outputs": [],
   "source": [
    "gbc = GradientBoostingClassifier(n_estimators=100, learning_rate=0.1, max_depth=3, random_state=42)"
   ]
  },
  {
   "cell_type": "code",
   "execution_count": 27,
   "id": "2c4c2c66",
   "metadata": {},
   "outputs": [
    {
     "data": {
      "text/plain": [
       "GradientBoostingClassifier(random_state=42)"
      ]
     },
     "execution_count": 27,
     "metadata": {},
     "output_type": "execute_result"
    }
   ],
   "source": [
    "gbc.fit(train_mean_imputed, y_train)"
   ]
  },
  {
   "cell_type": "code",
   "execution_count": 29,
   "id": "03e272a8",
   "metadata": {},
   "outputs": [],
   "source": [
    "y_predy = gbc.predict(test_mean_imputed)"
   ]
  },
  {
   "cell_type": "code",
   "execution_count": 30,
   "id": "031bdfb7",
   "metadata": {},
   "outputs": [
    {
     "name": "stdout",
     "output_type": "stream",
     "text": [
      "              precision    recall  f1-score   support\n",
      "\n",
      "           0       0.99      1.00      1.00     15625\n",
      "           1       0.89      0.70      0.78       375\n",
      "\n",
      "    accuracy                           0.99     16000\n",
      "   macro avg       0.94      0.85      0.89     16000\n",
      "weighted avg       0.99      0.99      0.99     16000\n",
      "\n"
     ]
    }
   ],
   "source": [
    "print(classification_report(y_test, y_predy))"
   ]
  },
  {
   "cell_type": "code",
   "execution_count": 31,
   "id": "fede78dd",
   "metadata": {},
   "outputs": [
    {
     "data": {
      "image/png": "[encoded data removed]",
      "text/plain": [
       "<Figure size 640x480 with 1 Axes>"
      ]
     },
     "metadata": {},
     "output_type": "display_data"
    },
    {
     "name": "stdout",
     "output_type": "stream",
     "text": [
      "AUC-ROC score: 0.8482453333333333\n"
     ]
    }
   ],
   "source": [
    "fpr, tpr, thresholds = roc_curve(y_test, y_predy)\n",
    "roc_auc = roc_auc_score(y_test, y_predy)\n",
    "\n",
    "import matplotlib.pyplot as plt\n",
    "plt.plot(fpr, tpr)\n",
    "plt.xlabel('False Positive Rate')\n",
    "plt.ylabel('True Positive Rate')\n",
    "plt.title('ROC Curve')\n",
    "plt.show()\n",
    "\n",
    "# Print the AUC-ROC score\n",
    "print('AUC-ROC score:', roc_auc)"
   ]
  },
  {
   "cell_type": "markdown",
   "id": "8ad26f70",
   "metadata": {},
   "source": [
    "### xg boost classifier"
   ]
  },
  {
   "cell_type": "code",
   "execution_count": 32,
   "id": "a40be52a",
   "metadata": {},
   "outputs": [
    {
     "name": "stdout",
     "output_type": "stream",
     "text": [
      "Fitting 3 folds for each of 18 candidates, totalling 54 fits\n",
      "Best HyperParameter:  {'max_depth': 6, 'n_estimators': 15}\n"
     ]
    }
   ],
   "source": [
    "# model fitting and hyper parameter tuning to find the best parameter\n",
    "clf=XGBClassifier(scale_pos_weight=59)\n",
    "\n",
    "depth=list(range(3, 10 ,3))\n",
    "nEstimator = list(range(3, 20 ,3))\n",
    "tuned_parameters = [{'max_depth':depth,'n_estimators':nEstimator}]\n",
    "\n",
    "gsv = GridSearchCV(clf,tuned_parameters,cv=3,verbose=1,scoring='roc_auc', return_train_score=True, n_jobs=-1)\n",
    "gsv.fit(train_mean_imputed,y_train)\n",
    "print(\"Best HyperParameter: \",gsv.best_params_)"
   ]
  },
  {
   "cell_type": "code",
   "execution_count": 33,
   "id": "7f89a9af",
   "metadata": {},
   "outputs": [
    {
     "data": {
      "image/png": "[encoded data removed]",
      "text/plain": [
       "<Figure size 500x500 with 2 Axes>"
      ]
     },
     "metadata": {},
     "output_type": "display_data"
    },
    {
     "name": "stdout",
     "output_type": "stream",
     "text": [
      "Number of False Positive =  492\n",
      "Number of False Negative =  15\n",
      "Total cost =  12420\n"
     ]
    },
    {
     "data": {
      "text/plain": [
       "12420"
      ]
     },
     "execution_count": 33,
     "metadata": {},
     "output_type": "execute_result"
    }
   ],
   "source": [
    "clf = XGBClassifier(max_depth= 3,  n_estimators= 18, n_jobs= -1, scale_pos_weight=40, min_child_weight=44)\n",
    "clf.fit(train_mean_imputed,y_train)\n",
    "y_pred = clf.predict(test_mean_imputed)\n",
    "cm =confusion_matrix (y_test, y_pred)\n",
    "result(cm)"
   ]
  },
  {
   "cell_type": "code",
   "execution_count": 34,
   "id": "6d2754cc",
   "metadata": {},
   "outputs": [
    {
     "name": "stdout",
     "output_type": "stream",
     "text": [
      "              precision    recall  f1-score   support\n",
      "\n",
      "           0       1.00      0.97      0.98     15625\n",
      "           1       0.42      0.96      0.59       375\n",
      "\n",
      "    accuracy                           0.97     16000\n",
      "   macro avg       0.71      0.96      0.79     16000\n",
      "weighted avg       0.99      0.97      0.97     16000\n",
      "\n"
     ]
    }
   ],
   "source": [
    "print(classification_report(y_test, y_pred))"
   ]
  },
  {
   "cell_type": "code",
   "execution_count": 35,
   "id": "a8217860",
   "metadata": {},
   "outputs": [
    {
     "data": {
      "image/png": "[encoded data removed]",
      "text/plain": [
       "<Figure size 500x500 with 1 Axes>"
      ]
     },
     "metadata": {},
     "output_type": "display_data"
    },
    {
     "name": "stdout",
     "output_type": "stream",
     "text": [
      "AUC-ROC score: 0.964256\n"
     ]
    }
   ],
   "source": [
    "fpr, tpr, thresholds = roc_curve(y_test, y_pred)\n",
    "roc_auc = roc_auc_score(y_test, y_pred)\n",
    "\n",
    "import matplotlib.pyplot as plt\n",
    "plt.plot(fpr, tpr)\n",
    "plt.xlabel('False Positive Rate')\n",
    "plt.ylabel('True Positive Rate')\n",
    "plt.title('ROC Curve')\n",
    "plt.show()\n",
    "\n",
    "# Print the AUC-ROC score\n",
    "print('AUC-ROC score:', roc_auc)"
   ]
  },
  {
   "cell_type": "markdown",
   "id": "d9efa0cd",
   "metadata": {},
   "source": [
    "#### We can conclude following by observing all the algorithms\n",
    " * as it is clear that mean imputation is used to fill nan values we can use median, mode also but me\n",
    " * as we can cleary see that the data was imbalanced as neg outputs were more compared to pos, so we used class_weight='balanced' to give minor class more priority and major less priority\n"
   ]
  }
 ],
 "metadata": {
  "kernelspec": {
   "display_name": "Python 3 (ipykernel)",
   "language": "python",
   "name": "python3"
  },
  "language_info": {
   "codemirror_mode": {
    "name": "ipython",
    "version": 3
   },
   "file_extension": ".py",
   "mimetype": "text/x-python",
   "name": "python",
   "nbconvert_exporter": "python",
   "pygments_lexer": "ipython3",
   "version": "3.9.13"
  }
 },
 "nbformat": 4,
 "nbformat_minor": 5
}
